{
 "cells": [
  {
   "cell_type": "markdown",
   "id": "e4eaaf7d",
   "metadata": {},
   "source": [
    "Bag of Words is a basic text representation technique in NLP.\n",
    "\n",
    "It converts text into numbers (vectors) so that machine learning models can work with it.\n",
    "\n",
    "The main idea:\n",
    "\n",
    "Collect all the unique words (vocabulary).\n",
    "\n",
    "Represent each document (sentence, paragraph, etc.) as a vector of word counts.\n",
    "\n",
    "It’s called a “bag” because:\n",
    "\n",
    "We only care about which words appear and how many times.\n",
    "\n",
    "We do not care about word order or grammar."
   ]
  },
  {
   "cell_type": "code",
   "execution_count": 1,
   "id": "27540a00",
   "metadata": {},
   "outputs": [
    {
     "name": "stderr",
     "output_type": "stream",
     "text": [
      "[nltk_data] Downloading package punkt to\n",
      "[nltk_data]     C:\\Users\\Hp\\AppData\\Roaming\\nltk_data...\n",
      "[nltk_data]   Package punkt is already up-to-date!\n"
     ]
    },
    {
     "name": "stdout",
     "output_type": "stream",
     "text": [
      "Tokenized Documents: [['love', 'natural', 'language', 'processing'], ['natural', 'language', 'processing', 'loves', 'python']]\n"
     ]
    }
   ],
   "source": [
    "import nltk\n",
    "from nltk.tokenize import word_tokenize\n",
    "from nltk.corpus import stopwords\n",
    "import string\n",
    "\n",
    "# Sample documents\n",
    "doc1 = \"I love Natural Language Processing.\"\n",
    "doc2 = \"Natural Language Processing loves Python.\"\n",
    "documents = [doc1, doc2]\n",
    "\n",
    "# Tokenize and preprocess\n",
    "nltk.download('punkt')\n",
    "\n",
    "stop_words = set(stopwords.words('english'))\n",
    "punctuations = set(string.punctuation)\n",
    "\n",
    "tokenized_docs = []\n",
    "for doc in documents:\n",
    "    words = word_tokenize(doc.lower())  # lowercase + tokenize\n",
    "    words = [w for w in words if w not in stop_words and w not in punctuations]  # remove stopwords & punctuation\n",
    "    tokenized_docs.append(words)\n",
    "\n",
    "print(\"Tokenized Documents:\", tokenized_docs)\n"
   ]
  },
  {
   "cell_type": "code",
   "execution_count": 2,
   "id": "bd68c624",
   "metadata": {},
   "outputs": [
    {
     "name": "stdout",
     "output_type": "stream",
     "text": [
      "Vocabulary: ['language', 'love', 'loves', 'natural', 'processing', 'python']\n"
     ]
    }
   ],
   "source": [
    "# Build a vocabulary (unique words)\n",
    "vocabulary = sorted(set([word for doc in tokenized_docs for word in doc]))\n",
    "print(\"Vocabulary:\", vocabulary)\n"
   ]
  },
  {
   "cell_type": "code",
   "execution_count": 3,
   "id": "118314c1",
   "metadata": {},
   "outputs": [
    {
     "name": "stdout",
     "output_type": "stream",
     "text": [
      "BoW Matrix:\n",
      "[1, 1, 0, 1, 1, 0]\n",
      "[1, 0, 1, 1, 1, 1]\n"
     ]
    }
   ],
   "source": [
    "# Function to create BoW vector\n",
    "def bow_vectorize(doc, vocabulary):\n",
    "    vector = [0] * len(vocabulary)\n",
    "    for word in doc:\n",
    "        if word in vocabulary:\n",
    "            index = vocabulary.index(word)\n",
    "            vector[index] += 1\n",
    "    return vector\n",
    "\n",
    "# Apply to all documents\n",
    "bow_matrix = [bow_vectorize(doc, vocabulary) for doc in tokenized_docs]\n",
    "\n",
    "print(\"BoW Matrix:\")\n",
    "for vec in bow_matrix:\n",
    "    print(vec)\n"
   ]
  },
  {
   "cell_type": "markdown",
   "id": "d2b4f7e0",
   "metadata": {},
   "source": [
    "Vocabulary = ['language', 'love', 'loves', 'natural', 'processing', 'python']\n",
    "\n",
    "First document → \"love natural language processing\" → [1, 1, 0, 1, 1, 0]\n",
    "\n",
    "Second document → \"natural language processing loves python\" → [1, 0, 1, 1, 1, 1]"
   ]
  },
  {
   "cell_type": "markdown",
   "id": "d730a961",
   "metadata": {},
   "source": []
  }
 ],
 "metadata": {
  "kernelspec": {
   "display_name": "base",
   "language": "python",
   "name": "python3"
  },
  "language_info": {
   "codemirror_mode": {
    "name": "ipython",
    "version": 3
   },
   "file_extension": ".py",
   "mimetype": "text/x-python",
   "name": "python",
   "nbconvert_exporter": "python",
   "pygments_lexer": "ipython3",
   "version": "3.12.7"
  }
 },
 "nbformat": 4,
 "nbformat_minor": 5
}
