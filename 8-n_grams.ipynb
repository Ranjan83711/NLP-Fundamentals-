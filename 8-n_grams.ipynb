{
 "cells": [
  {
   "cell_type": "markdown",
   "id": "103deafa",
   "metadata": {},
   "source": [
    " 👉 N-grams are simply sequences of N words from a sentence or text.\n",
    "\n",
    "- Unigram (1-gram): single words\n",
    "\n",
    "- Bigram (2-gram): sequences of 2 words\n",
    "\n",
    "- Trigram (3-gram): sequences of 3 words\n",
    "\n",
    "- And so on... "
   ]
  },
  {
   "cell_type": "markdown",
   "id": "ef413f1a",
   "metadata": {},
   "source": [
    "🔹 Example Sentence:\n",
    "\"I love Natural Language Processing\"\n",
    "\n",
    "\n",
    "Unigrams (1-grams):\n",
    "\n",
    "[\"I\", \"love\", \"Natural\", \"Language\", \"Processing\"]\n",
    "\n",
    "\n",
    "Bigrams (2-grams):\n",
    "\n",
    "[\"I love\", \"love Natural\", \"Natural Language\", \"Language Processing\"]\n",
    "\n",
    "\n",
    "Trigrams (3-grams):\n",
    "\n",
    "[\"I love Natural\", \"love Natural Language\", \"Natural Language Processing\"]\n"
   ]
  },
  {
   "cell_type": "markdown",
   "id": "220a7dbd",
   "metadata": {},
   "source": [
    "# 📌 Why are N-grams important in NLP?\n",
    "\n",
    "✅ Capture word order and context (BoW ignores order).\n",
    "✅ Useful in language modeling, machine translation, autocomplete, sentiment analysis.\n",
    "✅ Example:\n",
    "\n",
    "\"not good\" (bigram) = negative sentiment\n",
    "\n",
    "\"good\" (unigram) = positive sentiment\n",
    "Without bigrams, the model might misinterpret the meaning."
   ]
  },
  {
   "cell_type": "markdown",
   "id": "0632c85b",
   "metadata": {},
   "source": []
  },
  {
   "cell_type": "code",
   "execution_count": 1,
   "id": "23345b98",
   "metadata": {},
   "outputs": [
    {
     "name": "stdout",
     "output_type": "stream",
     "text": [
      "Unigrams: [('I',), ('love',), ('Natural',), ('Language',), ('Processing',)]\n",
      "Bigrams: [('I', 'love'), ('love', 'Natural'), ('Natural', 'Language'), ('Language', 'Processing')]\n",
      "Trigrams: [('I', 'love', 'Natural'), ('love', 'Natural', 'Language'), ('Natural', 'Language', 'Processing')]\n"
     ]
    }
   ],
   "source": [
    "import nltk\n",
    "from nltk.util import ngrams\n",
    "from nltk.tokenize import word_tokenize\n",
    "\n",
    "# Sample text\n",
    "text = \"I love Natural Language Processing\"\n",
    "tokens = word_tokenize(text)\n",
    "\n",
    "# Unigrams\n",
    "unigrams = list(ngrams(tokens, 1))\n",
    "print(\"Unigrams:\", unigrams)\n",
    "\n",
    "# Bigrams\n",
    "bigrams = list(ngrams(tokens, 2))\n",
    "print(\"Bigrams:\", bigrams)\n",
    "\n",
    "# Trigrams\n",
    "trigrams = list(ngrams(tokens, 3))\n",
    "print(\"Trigrams:\", trigrams)\n"
   ]
  },
  {
   "cell_type": "markdown",
   "id": "2bcc881a",
   "metadata": {},
   "source": [
    "# Summary\n",
    "\n",
    "- N-grams = word sequences of length N.\n",
    "\n",
    "- Unigram → treats words independently.\n",
    "\n",
    "- Bigram, Trigram → capture more context and meaning.\n",
    "\n",
    "- Widely used in text prediction, spell correction, search engines, and sentiment analysis."
   ]
  },
  {
   "cell_type": "markdown",
   "id": "5769b803",
   "metadata": {},
   "source": []
  }
 ],
 "metadata": {
  "kernelspec": {
   "display_name": "base",
   "language": "python",
   "name": "python3"
  },
  "language_info": {
   "codemirror_mode": {
    "name": "ipython",
    "version": 3
   },
   "file_extension": ".py",
   "mimetype": "text/x-python",
   "name": "python",
   "nbconvert_exporter": "python",
   "pygments_lexer": "ipython3",
   "version": "3.12.7"
  }
 },
 "nbformat": 4,
 "nbformat_minor": 5
}
